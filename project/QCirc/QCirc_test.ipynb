{
 "cells": [
  {
   "cell_type": "code",
   "execution_count": 1,
   "id": "3c1ff479",
   "metadata": {},
   "outputs": [],
   "source": [
    "# Import my Quantum Circuit Simulator\n",
    "from QCirc import QuantumCircuit\n",
    "from QGSTates import QuantumGate, QuantumState"
   ]
  },
  {
   "cell_type": "code",
   "execution_count": 2,
   "id": "7198c0e7",
   "metadata": {},
   "outputs": [
    {
     "name": "stdout",
     "output_type": "stream",
     "text": [
      "[0.70710678+0.j 0.        +0.j 0.        +0.j 0.70710678+0.j]\n"
     ]
    }
   ],
   "source": [
    "qc = QuantumCircuit(2)\n",
    "qc.add_gate(QuantumGate.H(), 0)\n",
    "qc.add_gate(QuantumGate.CNOT(), [0, 1])\n",
    "\n",
    "final_state = qc.run()\n",
    "print(final_state.vector)"
   ]
  },
  {
   "cell_type": "code",
   "execution_count": 3,
   "id": "74bf0021",
   "metadata": {},
   "outputs": [
    {
     "name": "stdout",
     "output_type": "stream",
     "text": [
      "[0.70710678+0.j 0.        +0.j 0.        +0.j ... 0.        +0.j\n",
      " 0.        +0.j 0.        +0.j]\n"
     ]
    }
   ],
   "source": [
    "qc = QuantumCircuit(20)\n",
    "qc.add_gate(QuantumGate.H(), 0)\n",
    "qc.add_gate(QuantumGate.CNOT(), [0, 1])\n",
    "\n",
    "final_state = qc.run()\n",
    "print(final_state.vector)"
   ]
  },
  {
   "cell_type": "code",
   "execution_count": 4,
   "id": "ebad1e56",
   "metadata": {},
   "outputs": [
    {
     "name": "stdout",
     "output_type": "stream",
     "text": [
      "220\n",
      "[0.00097656+0.j 0.00097656+0.j 0.00097656+0.j ... 0.00097656+0.j\n",
      " 0.00097656+0.j 0.00097656+0.j]\n",
      "[0.00097656+0.j 0.00097656+0.j 0.00097656+0.j ... 0.00097656+0.j\n",
      " 0.00097656+0.j 0.00097656+0.j]\n"
     ]
    }
   ],
   "source": [
    "def quantum_fourier_transform(qc):\n",
    "    \"\"\"\n",
    "    Applies the Quantum Fourier Transform to the given QuantumCircuit object.\n",
    "    The circuit must already be initialized with the desired number of qubits.\n",
    "    \"\"\"\n",
    "    n = qc.num_qubits\n",
    "    for j in range(n):\n",
    "        qc.add_gate(QuantumGate.H(), j)\n",
    "        for k in range(j+1, n):\n",
    "            angle = 2 * 3.141592653589793 / (2 ** (k - j + 1))\n",
    "            qc.add_gate(QuantumGate.CRZ(angle), [k, j])\n",
    "    # Optionally, swap qubits to reverse order\n",
    "    for i in range(n // 2):\n",
    "        qc.add_gate(QuantumGate.SWAP(), [i, n - i - 1])\n",
    "\n",
    "qc = QuantumCircuit(20)\n",
    "quantum_fourier_transform(qc)\n",
    "print(qc.number_of_gates)\n",
    "final_state = qc.run()\n",
    "print(final_state.vector)\n",
    "\n"
   ]
  },
  {
   "cell_type": "code",
   "execution_count": 5,
   "id": "ae5dd23e",
   "metadata": {},
   "outputs": [
    {
     "name": "stdout",
     "output_type": "stream",
     "text": [
      "240\n",
      "[-2.47470220e-09-2.55085235e-03j  0.00000000e+00+0.00000000e+00j\n",
      "  1.50215785e-08+2.13471703e-03j ...  0.00000000e+00+0.00000000e+00j\n",
      "  5.39240045e-10-9.92041146e-05j  0.00000000e+00+0.00000000e+00j]\n",
      "[-2.47470220e-09-2.55085235e-03j  0.00000000e+00+0.00000000e+00j\n",
      "  1.50215785e-08+2.13471703e-03j ...  0.00000000e+00+0.00000000e+00j\n",
      "  5.39240045e-10-9.92041146e-05j  0.00000000e+00+0.00000000e+00j]\n"
     ]
    }
   ],
   "source": [
    "qft_qc = QuantumCircuit(20)\n",
    "# start from |0>^20 but lets start from |1>^20\n",
    "for i in range(20):\n",
    "    qft_qc.add_gate(QuantumGate.H(), i)\n",
    "quantum_fourier_transform(qft_qc)\n",
    "print(qft_qc.number_of_gates)\n",
    "fs = qft_qc.run()\n",
    "print(fs.vector)"
   ]
  },
  {
   "cell_type": "code",
   "execution_count": 10,
   "id": "42a35d1a",
   "metadata": {},
   "outputs": [
    {
     "name": "stdout",
     "output_type": "stream",
     "text": [
      "[1.+0.j 0.+0.j 0.+0.j ... 0.+0.j 0.+0.j 0.+0.j]\n",
      "After applying QFT 1 time(s):\n",
      "[0.00097656+0.j 0.00097656+0.j 0.00097656+0.j ... 0.00097656+0.j\n",
      " 0.00097656+0.j 0.00097656+0.j]\n",
      "[1.+0.j 0.+0.j 0.+0.j ... 0.+0.j 0.+0.j 0.+0.j]\n",
      "After applying QFT 2 time(s):\n",
      "[-2.47470220e-09-2.55085235e-03j  0.00000000e+00+0.00000000e+00j\n",
      "  1.50215785e-08+2.13471703e-03j ...  0.00000000e+00+0.00000000e+00j\n",
      "  5.39240045e-10-9.92041146e-05j  0.00000000e+00+0.00000000e+00j]\n",
      "[1.+0.j 0.+0.j 0.+0.j ... 0.+0.j 0.+0.j 0.+0.j]\n",
      "After applying QFT 3 time(s):\n",
      "[ 0.01232048-0.01305346j  0.00111091-0.00251707j  0.00251707+0.0011109j\n",
      " ... -0.00909493+0.00695465j -0.00695468-0.00909491j\n",
      " -0.01305342-0.01232052j]\n",
      "[1.+0.j 0.+0.j 0.+0.j ... 0.+0.j 0.+0.j 0.+0.j]\n",
      "After applying QFT 4 time(s):\n",
      "[-6.82861022e-02+1.67227455e-01j  1.94783288e-19+3.00559261e-19j\n",
      "  5.53790177e-02+1.56934205e-02j ... -1.28999040e-19+1.01051980e-19j\n",
      " -2.09822929e-02+1.63163154e-03j -2.68162126e-19+4.65216614e-20j]\n"
     ]
    }
   ],
   "source": [
    "# Apply QFT 1, 2, 3, and 4 times starting from |0>^20 and print the final state each time\n",
    "for times in range(1, 5):\n",
    "    qc = QuantumCircuit(20)\n",
    "    print(qc.run().vector)\n",
    "    for _ in range(times):\n",
    "        quantum_fourier_transform(qc)\n",
    "    state = qc.run()\n",
    "    print(f\"After applying QFT {times} time(s):\")\n",
    "    print(state.vector)"
   ]
  },
  {
   "cell_type": "code",
   "execution_count": 6,
   "id": "4a529b23",
   "metadata": {},
   "outputs": [
    {
     "name": "stdout",
     "output_type": "stream",
     "text": [
      "n=2, basis_index=0, fidelity=1.000000\n",
      "n=2, basis_index=1, fidelity=1.000000\n",
      "n=2, basis_index=2, fidelity=1.000000\n",
      "n=2, basis_index=3, fidelity=1.000000\n",
      "n=3, basis_index=0, fidelity=1.000000\n",
      "n=3, basis_index=1, fidelity=1.000000\n",
      "n=3, basis_index=2, fidelity=1.000000\n",
      "n=3, basis_index=3, fidelity=1.000000\n",
      "n=3, basis_index=4, fidelity=1.000000\n",
      "n=3, basis_index=5, fidelity=1.000000\n",
      "n=3, basis_index=6, fidelity=1.000000\n",
      "n=3, basis_index=7, fidelity=1.000000\n",
      "n=4, basis_index=0, fidelity=1.000000\n",
      "n=4, basis_index=1, fidelity=1.000000\n",
      "n=4, basis_index=2, fidelity=1.000000\n",
      "n=4, basis_index=3, fidelity=1.000000\n",
      "n=4, basis_index=4, fidelity=1.000000\n",
      "n=4, basis_index=5, fidelity=1.000000\n",
      "n=4, basis_index=6, fidelity=1.000000\n",
      "n=4, basis_index=7, fidelity=1.000000\n",
      "n=4, basis_index=8, fidelity=1.000000\n",
      "n=4, basis_index=9, fidelity=1.000000\n",
      "n=4, basis_index=10, fidelity=1.000000\n",
      "n=4, basis_index=11, fidelity=1.000000\n",
      "n=4, basis_index=12, fidelity=1.000000\n",
      "n=4, basis_index=13, fidelity=1.000000\n",
      "n=4, basis_index=14, fidelity=1.000000\n",
      "n=4, basis_index=15, fidelity=1.000000\n",
      "n=5, basis_index=0, fidelity=1.000000\n",
      "n=5, basis_index=1, fidelity=1.000000\n",
      "n=5, basis_index=2, fidelity=1.000000\n",
      "n=5, basis_index=3, fidelity=1.000000\n",
      "n=5, basis_index=4, fidelity=1.000000\n",
      "n=5, basis_index=5, fidelity=1.000000\n",
      "n=5, basis_index=6, fidelity=1.000000\n",
      "n=5, basis_index=7, fidelity=1.000000\n",
      "n=5, basis_index=8, fidelity=1.000000\n",
      "n=5, basis_index=9, fidelity=1.000000\n",
      "n=5, basis_index=10, fidelity=1.000000\n",
      "n=5, basis_index=11, fidelity=1.000000\n",
      "n=5, basis_index=12, fidelity=1.000000\n",
      "n=5, basis_index=13, fidelity=1.000000\n",
      "n=5, basis_index=14, fidelity=1.000000\n",
      "n=5, basis_index=15, fidelity=1.000000\n",
      "n=5, basis_index=16, fidelity=1.000000\n",
      "n=5, basis_index=17, fidelity=1.000000\n",
      "n=5, basis_index=18, fidelity=1.000000\n",
      "n=5, basis_index=19, fidelity=1.000000\n",
      "n=5, basis_index=20, fidelity=1.000000\n",
      "n=5, basis_index=21, fidelity=1.000000\n",
      "n=5, basis_index=22, fidelity=1.000000\n",
      "n=5, basis_index=23, fidelity=1.000000\n",
      "n=5, basis_index=24, fidelity=1.000000\n",
      "n=5, basis_index=25, fidelity=1.000000\n",
      "n=5, basis_index=26, fidelity=1.000000\n",
      "n=5, basis_index=27, fidelity=1.000000\n",
      "n=5, basis_index=28, fidelity=1.000000\n",
      "n=5, basis_index=29, fidelity=1.000000\n",
      "n=5, basis_index=30, fidelity=1.000000\n",
      "n=5, basis_index=31, fidelity=1.000000\n"
     ]
    }
   ],
   "source": [
    "import numpy as np\n",
    "\n",
    "def theoretical_qft_state(n, basis_index):\n",
    "    \"\"\"Returns the theoretical QFT of |basis_index> for n qubits.\"\"\"\n",
    "    N = 2 ** n\n",
    "    state = np.zeros(N, dtype=complex)\n",
    "    for k in range(N):\n",
    "        state[k] = np.exp(2j * np.pi * basis_index * k / N)\n",
    "    return state / np.sqrt(N)\n",
    "\n",
    "def reverse_bits(x, n):\n",
    "    result = 0\n",
    "    for i in range(n):\n",
    "        if (x >> i) & 1:\n",
    "            result |= 1 << (n - 1 - i)\n",
    "    return result\n",
    "\n",
    "for n in range(2, 6):\n",
    "    N = 2 ** n\n",
    "    for basis_index in range(N):\n",
    "        # Prepare |basis_index> state\n",
    "        qc = QuantumCircuit(n)\n",
    "        for q in range(n):\n",
    "            if (basis_index >> q) & 1:\n",
    "                qc.add_gate(QuantumGate.X(), q)\n",
    "                # qc.add_gate(QuantumGate.X(), q) if q%2 == 0 else qc.add_gate(QuantumGate.H(), q)\n",
    "        # Apply QFT\n",
    "        quantum_fourier_transform(qc)\n",
    "        sim_state = qc.run().vector\n",
    "        # Reverse bits for theoretical state\n",
    "        theor_state = theoretical_qft_state(n, reverse_bits(basis_index, n))\n",
    "        # Compare\n",
    "        fidelity = np.abs(np.vdot(sim_state, theor_state)) ** 2\n",
    "        print(f\"n={n}, basis_index={basis_index}, fidelity={fidelity:.6f}\")\n",
    "        assert np.allclose(np.abs(fidelity), 1.0, atol=1e-6), f\"QFT failed for n={n}, basis={basis_index}\""
   ]
  },
  {
   "cell_type": "code",
   "execution_count": 9,
   "id": "1df1d1ea",
   "metadata": {},
   "outputs": [
    {
     "name": "stdout",
     "output_type": "stream",
     "text": [
      "basis_index=0, equal_up_to_global_phase=False\n"
     ]
    },
    {
     "ename": "AssertionError",
     "evalue": "QFT periodicity failed for basis_index=0",
     "output_type": "error",
     "traceback": [
      "\u001b[31m---------------------------------------------------------------------------\u001b[39m",
      "\u001b[31mAssertionError\u001b[39m                            Traceback (most recent call last)",
      "\u001b[36mCell\u001b[39m\u001b[36m \u001b[39m\u001b[32mIn[9]\u001b[39m\u001b[32m, line 32\u001b[39m\n\u001b[32m     30\u001b[39m \u001b[38;5;66;03m# Check if states are equal up to global phase\u001b[39;00m\n\u001b[32m     31\u001b[39m \u001b[38;5;28mprint\u001b[39m(\u001b[33mf\u001b[39m\u001b[33m\"\u001b[39m\u001b[33mbasis_index=\u001b[39m\u001b[38;5;132;01m{\u001b[39;00mbasis_index\u001b[38;5;132;01m}\u001b[39;00m\u001b[33m, equal_up_to_global_phase=\u001b[39m\u001b[38;5;132;01m{\u001b[39;00mequal_up_to_global_phase(original_state,\u001b[38;5;250m \u001b[39mfinal_state)\u001b[38;5;132;01m}\u001b[39;00m\u001b[33m\"\u001b[39m)\n\u001b[32m---> \u001b[39m\u001b[32m32\u001b[39m \u001b[38;5;28;01massert\u001b[39;00m equal_up_to_global_phase(original_state, final_state), \u001b[33mf\u001b[39m\u001b[33m\"\u001b[39m\u001b[33mQFT periodicity failed for basis_index=\u001b[39m\u001b[38;5;132;01m{\u001b[39;00mbasis_index\u001b[38;5;132;01m}\u001b[39;00m\u001b[33m\"\u001b[39m\n",
      "\u001b[31mAssertionError\u001b[39m: QFT periodicity failed for basis_index=0"
     ]
    }
   ],
   "source": [
    "# Test QFT periodicity: applying QFT 4 times should return the original state (up to global phase)\n",
    "\n",
    "def equal_up_to_global_phase(a, b, tol=1e-6):\n",
    "    '''Return True if vectors a and b are equal up to a global phase.'''\n",
    "    a = np.asarray(a)\n",
    "    b = np.asarray(b)\n",
    "    if np.allclose(a, 0) or np.allclose(b, 0):\n",
    "        return np.allclose(a, b, atol=tol)\n",
    "    # Remove global phase by normalizing first nonzero entry\n",
    "    def normalize_global_phase(vec):\n",
    "        idx = np.flatnonzero(np.abs(vec) > tol)\n",
    "        if len(idx) == 0:\n",
    "            return vec\n",
    "        phase = vec[idx[0]] / abs(vec[idx[0]])\n",
    "        return vec / phase\n",
    "    a_norm = normalize_global_phase(a)\n",
    "    b_norm = normalize_global_phase(b)\n",
    "    return np.allclose(a_norm, b_norm, atol=tol)\n",
    "\n",
    "n = 5\n",
    "for basis_index in range(2 ** n):\n",
    "    qc = QuantumCircuit(n)\n",
    "    for q in range(n):\n",
    "        if (basis_index >> q) & 1:\n",
    "            qc.add_gate(QuantumGate.X(), q)\n",
    "    original_state = qc.run().vector.copy()\n",
    "    for _ in range(4):\n",
    "        quantum_fourier_transform(qc)\n",
    "    final_state = qc.run().vector\n",
    "    # Check if states are equal up to global phase\n",
    "    print(f\"basis_index={basis_index}, equal_up_to_global_phase={equal_up_to_global_phase(original_state, final_state)}\")\n",
    "    assert equal_up_to_global_phase(original_state, final_state), f\"QFT periodicity failed for basis_index={basis_index}\""
   ]
  },
  {
   "cell_type": "code",
   "execution_count": null,
   "id": "b4739c79",
   "metadata": {},
   "outputs": [],
   "source": []
  }
 ],
 "metadata": {
  "kernelspec": {
   "display_name": "sciqis (3.13.5)",
   "language": "python",
   "name": "python3"
  },
  "language_info": {
   "codemirror_mode": {
    "name": "ipython",
    "version": 3
   },
   "file_extension": ".py",
   "mimetype": "text/x-python",
   "name": "python",
   "nbconvert_exporter": "python",
   "pygments_lexer": "ipython3",
   "version": "3.13.5"
  }
 },
 "nbformat": 4,
 "nbformat_minor": 5
}
